{
 "cells": [
  {
   "cell_type": "markdown",
   "metadata": {},
   "source": [
    "# HW3 - Q3 [35 pts]"
   ]
  },
  {
   "cell_type": "markdown",
   "metadata": {},
   "source": [
    "## Important Notices\n",
    "\n",
    "<div class=\"alert alert-block alert-danger\">\n",
    "    WARNING: <strong>REMOVE</strong> any print statements added to cells with \"#export\" that are used for debugging purposes befrore submitting because they will crash the autograder in Gradescope. Any additional cells can be used for testing purposes at the bottom. \n",
    "</div>\n",
    "\n",
    "<div class=\"alert alert-block alert-danger\">\n",
    "    WARNING: Do <strong>NOT</strong> remove any comment that says \"#export\" because that will crash the autograder in Gradescope. We use this comment to export your code in these cells for grading.\n",
    "</div>\n",
    "\n",
    "<div class=\"alert alert-block alert-danger\">\n",
    "    WARNING: Do <strong>NOT</strong> import any additional libraries into this workbook.\n",
    "</div>\n",
    "\n",
    "All instructions, code comments, etc. in this notebook **are part of the assignment instructions**. That is, if there is instructions about completing a task in this notebook, that task is not optional.  \n",
    "\n",
    "<div class=\"alert alert-block alert-info\">\n",
    "    You <strong>must</strong> implement the following functions in this notebook to receive credit.\n",
    "</div>\n",
    "\n",
    "`user()`\n",
    "\n",
    "`long_trips()`\n",
    "\n",
    "`manhattan_trips()`\n",
    "\n",
    "`weighted_profit()`\n",
    "\n",
    "`final_output()`\n",
    "\n",
    "Each method will be auto-graded using different sets of parameters or data, to ensure that values are not hard-coded.  You may assume we will only use your code to work with data from the NYC-TLC dataset during auto-grading.\n",
    "\n",
    "<div class=\"alert alert-block alert-danger\">\n",
    "    WARNING: Do <strong>NOT</strong> remove or modify the following utility functions:\n",
    "</div>\n",
    "\n",
    "`load_data()`\n",
    "\n",
    "`main()`"
   ]
  },
  {
   "cell_type": "markdown",
   "metadata": {},
   "source": [
    "<div class=\"alert alert-block alert-info\">\n",
    "    Do <strong>not</strong> change the below cell. Run it to initialize your PySpark instance. If you don't get any output, make sure your Notebook's Kernel is set to \"PySpark\" in the top right corner.\n",
    "</div>"
   ]
  },
  {
   "cell_type": "code",
   "execution_count": 1,
   "metadata": {
    "execution": {
     "iopub.execute_input": "2022-10-28T01:30:30.007038Z",
     "iopub.status.busy": "2022-10-28T01:30:30.006806Z",
     "iopub.status.idle": "2022-10-28T01:31:04.755679Z",
     "shell.execute_reply": "2022-10-28T01:31:04.755138Z",
     "shell.execute_reply.started": "2022-10-28T01:30:30.007014Z"
    },
    "tags": []
   },
   "outputs": [
    {
     "data": {
      "application/vnd.jupyter.widget-view+json": {
       "model_id": "07f76f1b7b554322a0ae53f09cd26123",
       "version_major": 2,
       "version_minor": 0
      },
      "text/plain": [
       "VBox()"
      ]
     },
     "metadata": {},
     "output_type": "display_data"
    },
    {
     "name": "stdout",
     "output_type": "stream",
     "text": [
      "Starting Spark application\n"
     ]
    },
    {
     "data": {
      "text/html": [
       "<table>\n",
       "<tr><th>ID</th><th>YARN Application ID</th><th>Kind</th><th>State</th><th>Spark UI</th><th>Driver log</th><th>User</th><th>Current session?</th></tr><tr><td>3</td><td>application_1666915138343_0004</td><td>pyspark</td><td>idle</td><td><a target=\"_blank\" href=\"http://ip-172-31-4-35.ec2.internal:20888/proxy/application_1666915138343_0004/\" class=\"emr-proxy-link\" emr-resource=\"j-217XDOS1EACGB\n",
       "\" application-id=\"application_1666915138343_0004\">Link</a></td><td><a target=\"_blank\" href=\"http://ip-172-31-14-112.ec2.internal:8042/node/containerlogs/container_1666915138343_0004_01_000001/livy\" >Link</a></td><td>None</td><td>✔</td></tr></table>"
      ],
      "text/plain": [
       "<IPython.core.display.HTML object>"
      ]
     },
     "metadata": {},
     "output_type": "display_data"
    },
    {
     "data": {
      "application/vnd.jupyter.widget-view+json": {
       "model_id": "",
       "version_major": 2,
       "version_minor": 0
      },
      "text/plain": [
       "FloatProgress(value=0.0, bar_style='info', description='Progress:', layout=Layout(height='25px', width='50%'),…"
      ]
     },
     "metadata": {},
     "output_type": "display_data"
    },
    {
     "name": "stdout",
     "output_type": "stream",
     "text": [
      "SparkSession available as 'spark'.\n"
     ]
    },
    {
     "data": {
      "application/vnd.jupyter.widget-view+json": {
       "model_id": "",
       "version_major": 2,
       "version_minor": 0
      },
      "text/plain": [
       "FloatProgress(value=0.0, bar_style='info', description='Progress:', layout=Layout(height='25px', width='50%'),…"
      ]
     },
     "metadata": {},
     "output_type": "display_data"
    },
    {
     "name": "stdout",
     "output_type": "stream",
     "text": [
      "<SparkContext master=yarn appName=livy-session-3>"
     ]
    }
   ],
   "source": [
    "sc"
   ]
  },
  {
   "cell_type": "markdown",
   "metadata": {},
   "source": [
    "<div class=\"alert alert-block alert-danger\">\n",
    "    WARNING: Do <strong>NOT</strong> remodify the below cell. It contains the function for loading data and all imports, and the function for running your codex.\n",
    "</div>"
   ]
  },
  {
   "cell_type": "code",
   "execution_count": 2,
   "metadata": {
    "execution": {
     "iopub.execute_input": "2022-10-28T01:31:04.756947Z",
     "iopub.status.busy": "2022-10-28T01:31:04.756774Z",
     "iopub.status.idle": "2022-10-28T01:31:05.023113Z",
     "shell.execute_reply": "2022-10-28T01:31:05.022197Z",
     "shell.execute_reply.started": "2022-10-28T01:31:04.756925Z"
    },
    "tags": []
   },
   "outputs": [
    {
     "data": {
      "application/vnd.jupyter.widget-view+json": {
       "model_id": "e409af617d604c0993cdd9a7eee7e2c2",
       "version_major": 2,
       "version_minor": 0
      },
      "text/plain": [
       "VBox()"
      ]
     },
     "metadata": {},
     "output_type": "display_data"
    },
    {
     "data": {
      "application/vnd.jupyter.widget-view+json": {
       "model_id": "",
       "version_major": 2,
       "version_minor": 0
      },
      "text/plain": [
       "FloatProgress(value=0.0, bar_style='info', description='Progress:', layout=Layout(height='25px', width='50%'),…"
      ]
     },
     "metadata": {},
     "output_type": "display_data"
    }
   ],
   "source": [
    "#export\n",
    "from pyspark.sql.functions import col\n",
    "from pyspark.sql import *"
   ]
  },
  {
   "cell_type": "code",
   "execution_count": 3,
   "metadata": {
    "execution": {
     "iopub.execute_input": "2022-10-28T01:31:05.026899Z",
     "iopub.status.busy": "2022-10-28T01:31:05.025644Z",
     "iopub.status.idle": "2022-10-28T01:31:05.137256Z",
     "shell.execute_reply": "2022-10-28T01:31:05.136635Z",
     "shell.execute_reply.started": "2022-10-28T01:31:05.026859Z"
    },
    "tags": []
   },
   "outputs": [
    {
     "data": {
      "application/vnd.jupyter.widget-view+json": {
       "model_id": "86620c93a11a4c3184c8bf62470e1186",
       "version_major": 2,
       "version_minor": 0
      },
      "text/plain": [
       "VBox()"
      ]
     },
     "metadata": {},
     "output_type": "display_data"
    },
    {
     "data": {
      "application/vnd.jupyter.widget-view+json": {
       "model_id": "",
       "version_major": 2,
       "version_minor": 0
      },
      "text/plain": [
       "FloatProgress(value=0.0, bar_style='info', description='Progress:', layout=Layout(height='25px', width='50%'),…"
      ]
     },
     "metadata": {},
     "output_type": "display_data"
    }
   ],
   "source": [
    "#### DO NOT CHANGE ANYTHING IN THIS CELL ####\n",
    "\n",
    "def load_data(size='small'):\n",
    "    # Loads the data for this question. Do not change this function.\n",
    "    # This function should only be called with the parameter 'small' or 'large'\n",
    "    \n",
    "    if size != 'small' and size != 'large':\n",
    "        print(\"Invalid size parameter provided. Use only 'small' or 'large'.\")\n",
    "        return\n",
    "    \n",
    "    input_bucket = \"s3://cse6242-hw3-q3\"\n",
    "    \n",
    "    # Load Trip Data\n",
    "    trip_path = '/'+size+'/yellow_tripdata*'\n",
    "    trips = spark.read.csv(input_bucket + trip_path, header=True, inferSchema=True)\n",
    "    print(\"Trip Count: \",trips.count()) # Prints # of trips (# of records, as each record is one trip)\n",
    "    \n",
    "    # Load Lookup Data\n",
    "    lookup_path = '/'+size+'/taxi*'\n",
    "    lookup = spark.read.csv(input_bucket + lookup_path, header=True, inferSchema=True)\n",
    "    \n",
    "    return trips, lookup\n",
    "\n",
    "def main(size, bucket):\n",
    "    # Runs your functions implemented above.\n",
    "    \n",
    "    print(user())\n",
    "    trips, lookup = load_data(size=size)\n",
    "    trips = long_trips(trips)\n",
    "    mtrips = manhattan_trips(trips, lookup)\n",
    "    wp = weighted_profit(trips, mtrips)\n",
    "    final = final_output(wp, lookup)\n",
    "    \n",
    "    # Outputs the results for you to visually see\n",
    "    final.show()\n",
    "    \n",
    "    # Writes out as a CSV to your bucket.\n",
    "    final.write.csv(bucket)"
   ]
  },
  {
   "cell_type": "markdown",
   "metadata": {},
   "source": [
    "# Implement the below functions for this assignment:\n",
    "<div class=\"alert alert-block alert-danger\">\n",
    "    WARNING: Do <strong>NOT</strong> change any function inputs or outputs, and ensure that the dataframes your code returns align with the schema definitions commented in each function. Do <strong>NOT</strong> remove the #export comment from each of the code blocks either. This can prevent your code from being converted to a python file.\n",
    "</div>"
   ]
  },
  {
   "cell_type": "markdown",
   "metadata": {},
   "source": [
    "## 3a. [1 pt] Update the `user()` function\n",
    "This function should return your GT username, eg: gburdell3"
   ]
  },
  {
   "cell_type": "code",
   "execution_count": 4,
   "metadata": {
    "execution": {
     "iopub.execute_input": "2022-10-28T01:31:05.138538Z",
     "iopub.status.busy": "2022-10-28T01:31:05.138338Z",
     "iopub.status.idle": "2022-10-28T01:31:05.218737Z",
     "shell.execute_reply": "2022-10-28T01:31:05.218034Z",
     "shell.execute_reply.started": "2022-10-28T01:31:05.138514Z"
    },
    "tags": []
   },
   "outputs": [
    {
     "data": {
      "application/vnd.jupyter.widget-view+json": {
       "model_id": "26bdbc43793542ab92cec693b4d3d0b4",
       "version_major": 2,
       "version_minor": 0
      },
      "text/plain": [
       "VBox()"
      ]
     },
     "metadata": {},
     "output_type": "display_data"
    },
    {
     "data": {
      "application/vnd.jupyter.widget-view+json": {
       "model_id": "",
       "version_major": 2,
       "version_minor": 0
      },
      "text/plain": [
       "FloatProgress(value=0.0, bar_style='info', description='Progress:', layout=Layout(height='25px', width='50%'),…"
      ]
     },
     "metadata": {},
     "output_type": "display_data"
    }
   ],
   "source": [
    "#export\n",
    "def user():\n",
    "    # Returns a string consisting of your GT username.\n",
    "    return 'swagner38'"
   ]
  },
  {
   "cell_type": "markdown",
   "metadata": {},
   "source": [
    "## 3b. [2 pts] Update the `long_trips()` function\n",
    "This function filters trips to keep only trips greater than or equal to 2 miles."
   ]
  },
  {
   "cell_type": "code",
   "execution_count": 5,
   "metadata": {
    "execution": {
     "iopub.execute_input": "2022-10-28T01:31:05.220181Z",
     "iopub.status.busy": "2022-10-28T01:31:05.219798Z",
     "iopub.status.idle": "2022-10-28T01:31:05.305807Z",
     "shell.execute_reply": "2022-10-28T01:31:05.305101Z",
     "shell.execute_reply.started": "2022-10-28T01:31:05.220144Z"
    },
    "tags": []
   },
   "outputs": [
    {
     "data": {
      "application/vnd.jupyter.widget-view+json": {
       "model_id": "298eb3fbbed8473bb4c0d833385e66bc",
       "version_major": 2,
       "version_minor": 0
      },
      "text/plain": [
       "VBox()"
      ]
     },
     "metadata": {},
     "output_type": "display_data"
    },
    {
     "data": {
      "application/vnd.jupyter.widget-view+json": {
       "model_id": "",
       "version_major": 2,
       "version_minor": 0
      },
      "text/plain": [
       "FloatProgress(value=0.0, bar_style='info', description='Progress:', layout=Layout(height='25px', width='50%'),…"
      ]
     },
     "metadata": {},
     "output_type": "display_data"
    }
   ],
   "source": [
    "#export\n",
    "def long_trips(trips):\n",
    "    # Returns a Dataframe (trips) with Schema the same as :trips:\n",
    "    return trips.where(col('trip_distance') >= 2)"
   ]
  },
  {
   "cell_type": "markdown",
   "metadata": {},
   "source": [
    "## 3c. [6 pts] Update the `manhattan_trips()` function\n",
    "\n",
    "This function determines the top 20 locations with a `DOLocationID` in manhattan by passenger_count (pcount).\n",
    "\n",
    "Example output formatting:\n",
    "\n",
    "```\n",
    "+--------------+--------+\n",
    "| DOLocationID | pcount |\n",
    "+--------------+--------+\n",
    "|             5|      15|\n",
    "|            16|      12| \n",
    "+--------------+--------+\n",
    "```"
   ]
  },
  {
   "cell_type": "code",
   "execution_count": 6,
   "metadata": {
    "execution": {
     "iopub.execute_input": "2022-10-28T01:31:05.307076Z",
     "iopub.status.busy": "2022-10-28T01:31:05.306824Z",
     "iopub.status.idle": "2022-10-28T01:31:05.392025Z",
     "shell.execute_reply": "2022-10-28T01:31:05.391226Z",
     "shell.execute_reply.started": "2022-10-28T01:31:05.307042Z"
    },
    "tags": []
   },
   "outputs": [
    {
     "data": {
      "application/vnd.jupyter.widget-view+json": {
       "model_id": "3390a38b6ead41f3aa63fe3cb261cacc",
       "version_major": 2,
       "version_minor": 0
      },
      "text/plain": [
       "VBox()"
      ]
     },
     "metadata": {},
     "output_type": "display_data"
    },
    {
     "data": {
      "application/vnd.jupyter.widget-view+json": {
       "model_id": "",
       "version_major": 2,
       "version_minor": 0
      },
      "text/plain": [
       "FloatProgress(value=0.0, bar_style='info', description='Progress:', layout=Layout(height='25px', width='50%'),…"
      ]
     },
     "metadata": {},
     "output_type": "display_data"
    }
   ],
   "source": [
    "#export\n",
    "def manhattan_trips(trips, lookup):\n",
    "    df = lookup.join(trips, col(\"LocationID\") == col(\"DOLocationID\")).where(col(\"Borough\") == 'Manhattan')\n",
    "    return df.groupBy(['DOLocationID']).agg({'passenger_count': 'sum'})\\\n",
    "            .withColumnRenamed(\"sum(passenger_count)\", \"pcount\").orderBy(col(\"pcount\").desc()).limit(20)"
   ]
  },
  {
   "cell_type": "markdown",
   "metadata": {},
   "source": [
    "## 3d. [6 pts] Update the `weighted_profit()` function\n",
    "This function should determine the average `total_amount`, the total count of trips, and the total count of trips ending in the top 20 destinations and return the `weighted_profit` as discussed in the homework document.\n",
    "\n",
    "Example output formatting:\n",
    "```\n",
    "+--------------+-------------------+\n",
    "| PULocationID |  weighted_profit  |\n",
    "+--------------+-------------------+\n",
    "|            18| 33.784444421924436| \n",
    "|            12| 21.124577637149223| \n",
    "+--------------+-------------------+\n",
    "```"
   ]
  },
  {
   "cell_type": "code",
   "execution_count": 7,
   "metadata": {
    "execution": {
     "iopub.execute_input": "2022-10-28T01:31:05.393484Z",
     "iopub.status.busy": "2022-10-28T01:31:05.393233Z",
     "iopub.status.idle": "2022-10-28T01:31:05.456959Z",
     "shell.execute_reply": "2022-10-28T01:31:05.456424Z",
     "shell.execute_reply.started": "2022-10-28T01:31:05.393448Z"
    },
    "tags": []
   },
   "outputs": [
    {
     "data": {
      "application/vnd.jupyter.widget-view+json": {
       "model_id": "cdcc0cfffb6f4a26aa8656cebf91c78c",
       "version_major": 2,
       "version_minor": 0
      },
      "text/plain": [
       "VBox()"
      ]
     },
     "metadata": {},
     "output_type": "display_data"
    },
    {
     "data": {
      "application/vnd.jupyter.widget-view+json": {
       "model_id": "",
       "version_major": 2,
       "version_minor": 0
      },
      "text/plain": [
       "FloatProgress(value=0.0, bar_style='info', description='Progress:', layout=Layout(height='25px', width='50%'),…"
      ]
     },
     "metadata": {},
     "output_type": "display_data"
    }
   ],
   "source": [
    "#export\n",
    "def weighted_profit(trips, mtrips): \n",
    "    df = trips.groupBy([\"PULocationID\"]).agg({\"total_amount\": \"avg\", \"PULocationID\": \"count\"})\\\n",
    "                .withColumnRenamed(\"avg(total_amount)\", \"avg\").withColumnRenamed(\"count(PULocationID)\", \"ct\")\n",
    "    df2 = trips.join(mtrips, ['DOLocationID'], 'leftsemi').groupBy(\"PULocationID\").count()\n",
    "    \n",
    "    return df.join(df2, ['PULocationID']).select(\"PULocationID\", (col(\"count\")/col(\"ct\")).alias(\"mul\"), \"avg\").select(\"PULocationID\", \n",
    "                                                                  (col(\"mul\") * col(\"avg\")).alias(\"weighted_profit\"))"
   ]
  },
  {
   "cell_type": "markdown",
   "metadata": {},
   "source": [
    "## 3e. [5 pts] Update the `final_output()` function\n",
    "This function will take the results of `weighted_profit`, links it to the `borough` and `zone` and returns the top 20 locations with the highest `weighted_profit`.\n",
    "\n",
    "Example output formatting:\n",
    "```\n",
    "+------------+---------+-------------------+\n",
    "|    Zone    | Borough |  weighted_profit  |\n",
    "+----------------------+-------------------+\n",
    "| JFK Airport|   Queens|  16.95897820117925|\n",
    "|     Jamaica|   Queens| 14.879835188762488|\n",
    "+------------+---------+-------------------+\n",
    "```"
   ]
  },
  {
   "cell_type": "code",
   "execution_count": 8,
   "metadata": {
    "execution": {
     "iopub.execute_input": "2022-10-28T01:31:05.458429Z",
     "iopub.status.busy": "2022-10-28T01:31:05.458258Z",
     "iopub.status.idle": "2022-10-28T01:31:05.520835Z",
     "shell.execute_reply": "2022-10-28T01:31:05.520245Z",
     "shell.execute_reply.started": "2022-10-28T01:31:05.458408Z"
    },
    "tags": []
   },
   "outputs": [
    {
     "data": {
      "application/vnd.jupyter.widget-view+json": {
       "model_id": "8e0cb9c9590c4f8aacb66e852d3207ac",
       "version_major": 2,
       "version_minor": 0
      },
      "text/plain": [
       "VBox()"
      ]
     },
     "metadata": {},
     "output_type": "display_data"
    },
    {
     "data": {
      "application/vnd.jupyter.widget-view+json": {
       "model_id": "",
       "version_major": 2,
       "version_minor": 0
      },
      "text/plain": [
       "FloatProgress(value=0.0, bar_style='info', description='Progress:', layout=Layout(height='25px', width='50%'),…"
      ]
     },
     "metadata": {},
     "output_type": "display_data"
    }
   ],
   "source": [
    "#export\n",
    "def final_output(wp, lookup): \n",
    "    # Returns a Dataframe (final) with Schema: Zone, Borough, weighted_profit\n",
    "    # Note: Use decimal datatype for weighted profit (NOTE: DON'T USE FLOAT)\n",
    "    # Our grader will be only be checking the first 8 characters for each value in the dataframe\n",
    "    return wp.join(lookup, col(\"PULocationID\") == col(\"LocationID\")).orderBy(col(\"weighted_profit\").desc()).limit(20).select(\"Zone\", \n",
    "                                                                                \"Borough\", \"weighted_profit\")"
   ]
  },
  {
   "cell_type": "code",
   "execution_count": 9,
   "metadata": {
    "execution": {
     "iopub.execute_input": "2022-10-28T01:31:13.237003Z",
     "iopub.status.busy": "2022-10-28T01:31:13.236775Z",
     "iopub.status.idle": "2022-10-28T01:44:39.138453Z",
     "shell.execute_reply": "2022-10-28T01:44:39.137616Z",
     "shell.execute_reply.started": "2022-10-28T01:31:13.236980Z"
    },
    "tags": []
   },
   "outputs": [
    {
     "data": {
      "application/vnd.jupyter.widget-view+json": {
       "model_id": "65290f8ee4dd4735af52cfbe16725725",
       "version_major": 2,
       "version_minor": 0
      },
      "text/plain": [
       "VBox()"
      ]
     },
     "metadata": {},
     "output_type": "display_data"
    },
    {
     "data": {
      "application/vnd.jupyter.widget-view+json": {
       "model_id": "",
       "version_major": 2,
       "version_minor": 0
      },
      "text/plain": [
       "FloatProgress(value=0.0, bar_style='info', description='Progress:', layout=Layout(height='25px', width='50%'),…"
      ]
     },
     "metadata": {},
     "output_type": "display_data"
    },
    {
     "name": "stdout",
     "output_type": "stream",
     "text": [
      "swagner38\n",
      "Trip Count:  187203269\n",
      "+--------+--------------------+---------------------+---------------+-------------+----------+------------------+------------+------------+------------+-----------+-----+-------+----------+------------+---------------------+------------+\n",
      "|VendorID|tpep_pickup_datetime|tpep_dropoff_datetime|passenger_count|trip_distance|RatecodeID|store_and_fwd_flag|PULocationID|DOLocationID|payment_type|fare_amount|extra|mta_tax|tip_amount|tolls_amount|improvement_surcharge|total_amount|\n",
      "+--------+--------------------+---------------------+---------------+-------------+----------+------------------+------------+------------+------------+-----------+-----+-------+----------+------------+---------------------+------------+\n",
      "|       1| 2018-01-01 00:21:05|  2018-01-01 00:24:23|              1|          .50|         1|                 N|          41|          24|           2|        4.5|  0.5|    0.5|         0|           0|                  0.3|         5.8|\n",
      "|       1| 2018-01-01 00:44:55|  2018-01-01 01:03:05|              1|         2.70|         1|                 N|         239|         140|           2|         14|  0.5|    0.5|         0|           0|                  0.3|        15.3|\n",
      "|       1| 2018-01-01 00:08:26|  2018-01-01 00:14:21|              2|          .80|         1|                 N|         262|         141|           1|          6|  0.5|    0.5|         1|           0|                  0.3|         8.3|\n",
      "|       1| 2018-01-01 00:20:22|  2018-01-01 00:52:51|              1|        10.20|         1|                 N|         140|         257|           2|       33.5|  0.5|    0.5|         0|           0|                  0.3|        34.8|\n",
      "|       1| 2018-01-01 00:09:18|  2018-01-01 00:27:06|              2|         2.50|         1|                 N|         246|         239|           1|       12.5|  0.5|    0.5|      2.75|           0|                  0.3|       16.55|\n",
      "|       1| 2018-01-01 00:29:29|  2018-01-01 00:32:48|              3|          .50|         1|                 N|         143|         143|           2|        4.5|  0.5|    0.5|         0|           0|                  0.3|         5.8|\n",
      "|       1| 2018-01-01 00:38:08|  2018-01-01 00:48:24|              2|         1.70|         1|                 N|          50|         239|           1|          9|  0.5|    0.5|      2.05|           0|                  0.3|       12.35|\n",
      "|       1| 2018-01-01 00:49:29|  2018-01-01 00:51:53|              1|          .70|         1|                 N|         239|         238|           1|          4|  0.5|    0.5|         1|           0|                  0.3|         6.3|\n",
      "|       1| 2018-01-01 00:56:38|  2018-01-01 01:01:05|              1|         1.00|         1|                 N|         238|          24|           1|        5.5|  0.5|    0.5|       1.7|           0|                  0.3|         8.5|\n",
      "|       1| 2018-01-01 00:17:04|  2018-01-01 00:22:24|              1|          .70|         1|                 N|         170|         170|           2|        5.5|  0.5|    0.5|         0|           0|                  0.3|         6.8|\n",
      "|       1| 2018-01-01 00:41:03|  2018-01-01 00:46:49|              1|          .60|         1|                 N|         162|         229|           1|        5.5|  0.5|    0.5|      1.35|           0|                  0.3|        8.15|\n",
      "|       1| 2018-01-01 00:52:54|  2018-01-01 01:17:33|              1|         3.50|         1|                 N|         141|         113|           2|       16.5|  0.5|    0.5|         0|           0|                  0.3|        17.8|\n",
      "|       2| 2018-01-01 00:17:54|  2018-01-01 00:22:05|              1|         1.04|         1|                 N|         137|         224|           2|        5.5|  0.5|    0.5|         0|           0|                  0.3|         6.8|\n",
      "|       2| 2018-01-01 00:24:47|  2018-01-01 00:34:20|              1|         1.22|         1|                 N|         224|          79|           2|        7.5|  0.5|    0.5|         0|           0|                  0.3|         8.8|\n",
      "|       2| 2018-01-01 00:37:57|  2018-01-01 00:53:43|              1|         1.92|         1|                 N|         234|         100|           2|         10|  0.5|    0.5|         0|           0|                  0.3|        11.3|\n",
      "|       1| 2018-01-01 00:35:53|  2018-01-01 00:52:59|              1|         5.70|         1|                 N|          13|         189|           1|         19|  0.5|    0.5|      4.05|           0|                  0.3|       24.35|\n",
      "|       2| 2018-01-01 00:30:47|  2018-01-01 01:13:20|              1|         3.74|         1|                 N|          48|         236|           1|       25.5|  0.5|    0.5|       6.7|           0|                  0.3|        33.5|\n",
      "|       1| 2018-01-01 00:21:45|  2018-01-01 00:25:58|              2|          .60|         1|                 N|         163|         162|           1|        4.5|  0.5|    0.5|       1.7|           0|                  0.3|         7.5|\n",
      "|       1| 2018-01-01 00:31:11|  2018-01-01 01:07:56|              1|        10.90|         1|                 N|         229|          61|           2|         35|  0.5|    0.5|         0|           0|                  0.3|        36.3|\n",
      "|       2| 2018-01-01 00:15:42|  2018-01-01 00:21:38|              5|         1.22|         1|                 N|         236|          75|           2|          6|  0.5|    0.5|         0|           0|                  0.3|         7.3|\n",
      "+--------+--------------------+---------------------+---------------+-------------+----------+------------------+------------+------------+------------+-----------+-----+-------+----------+------------+---------------------+------------+\n",
      "only showing top 20 rows\n",
      "\n",
      "+--------------------+-------------+------------------+\n",
      "|                Zone|      Borough|   weighted_profit|\n",
      "+--------------------+-------------+------------------+\n",
      "|        Baisley Park|       Queens|29.360455779130838|\n",
      "|Flushing Meadows-...|       Queens| 27.30484573361766|\n",
      "|       South Jamaica|       Queens|26.294916239873466|\n",
      "|     Randalls Island|    Manhattan|24.150989940227525|\n",
      "|        Astoria Park|       Queens|21.706417112147527|\n",
      "|Briarwood/Jamaica...|       Queens|19.945064631789343|\n",
      "|Springfield Garde...|       Queens|19.468309288781906|\n",
      "|             Jamaica|       Queens|  19.2839430001379|\n",
      "|              Corona|       Queens|18.228769248155967|\n",
      "|   LaGuardia Airport|       Queens|18.181338808373003|\n",
      "|         Jamaica Bay|       Queens|17.100529446757893|\n",
      "|             Maspeth|       Queens|17.005450640079545|\n",
      "|Eltingville/Annad...|Staten Island|16.837764756944452|\n",
      "|         JFK Airport|       Queens|16.777725348249632|\n",
      "|        Battery Park|    Manhattan|12.849780311142878|\n",
      "| Morningside Heights|    Manhattan| 12.45369802658408|\n",
      "|   Battery Park City|    Manhattan|12.448848404428604|\n",
      "|Greenwich Village...|    Manhattan| 12.44694989169405|\n",
      "|       Rikers Island|        Bronx|           12.3063|\n",
      "|  World Trade Center|    Manhattan| 12.29541192413337|\n",
      "+--------------------+-------------+------------------+"
     ]
    }
   ],
   "source": [
    "bucket = 's3://cse6242-swagner38/output3'\n",
    "main('large', bucket)"
   ]
  },
  {
   "cell_type": "markdown",
   "metadata": {},
   "source": [
    "#### Testing\n",
    "\n",
    "<div class=\"alert alert-block alert-info\">\n",
    "    You may use the below cell for any additional testing you need to do, however any code implemented below will not be run or used when grading.\n",
    "</div>"
   ]
  },
  {
   "cell_type": "code",
   "execution_count": null,
   "metadata": {},
   "outputs": [],
   "source": []
  }
 ],
 "metadata": {
  "kernelspec": {
   "display_name": "PySpark",
   "language": "python",
   "name": "pysparkkernel"
  },
  "language_info": {
   "codemirror_mode": {
    "name": "python",
    "version": 3
   },
   "file_extension": ".py",
   "mimetype": "text/x-python",
   "name": "pyspark",
   "pygments_lexer": "python3"
  }
 },
 "nbformat": 4,
 "nbformat_minor": 4
}
